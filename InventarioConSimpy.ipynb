{
  "cells": [
    {
      "cell_type": "markdown",
      "source": [
        "# Sistema de inventario"
      ],
      "metadata": {
        "id": "_oXHEaibwORl"
      }
    },
    {
      "cell_type": "markdown",
      "source": [
        "Este código hace una simulación de inventario utilizando la biblioteca simpy."
      ],
      "metadata": {
        "id": "km3SrJlQvt-D"
      }
    },
    {
      "cell_type": "code",
      "execution_count": null,
      "metadata": {
        "colab": {
          "base_uri": "https://localhost:8080/"
        },
        "id": "_cd1N4nbBa1M",
        "outputId": "f9e084df-66df-4524-f50c-9fbda9630629"
      },
      "outputs": [
        {
          "output_type": "stream",
          "name": "stdout",
          "text": [
            "Looking in indexes: https://pypi.org/simple, https://us-python.pkg.dev/colab-wheels/public/simple/\n",
            "Requirement already satisfied: simpy in /usr/local/lib/python3.10/dist-packages (4.0.1)\n"
          ]
        }
      ],
      "source": [
        "!pip install simpy"
      ]
    },
    {
      "cell_type": "code",
      "execution_count": null,
      "metadata": {
        "id": "QivCGeIVBnB3"
      },
      "outputs": [],
      "source": [
        "#Importamos simpy & numpy\n",
        "import simpy\n",
        "import numpy as np"
      ]
    },
    {
      "cell_type": "code",
      "execution_count": null,
      "metadata": {
        "id": "4Bgvsgi0B528"
      },
      "outputs": [],
      "source": [
        "#La función toma 3 argumentos\n",
        "#order_cutoff es el nivel de inventario mínimo en el cual se debe realizar un nuevo pedido\n",
        "#order_target es el tamaño del pedido a realizar cuando se alcanza el punto de reorden.\n",
        "def warehouse_run(env, order_cutoff, order_target): #La función toma 3 argumentos\n",
        "  global inventory, balance, num_ordered\n",
        "#Las variables inventory, balance y num_ordered se inicializan.\n",
        "#Estas variables se utilizan para llevar un seguimiento del inventario actual, el saldo financiero y el número de pedidos en curso.\n",
        "  inventory= order_target\n",
        "  balance= 0.0\n",
        "  num_ordered=0\n",
        "\n",
        "  while True:\n",
        "    interarrival = generate_interarrival() #Se genera un tiempo de llegada entre eventos utilizando la función generate_interarrival().\n",
        "    #Este tiempo representa el intervalo de tiempo entre eventos de llegada\n",
        "    yield env.timeout(interarrival) #Se utiliza yield env.timeout(interarrival) para pausar la ejecución de la función durante el tiempo de llegada generado.\n",
        "    balance -= inventory*2*interarrival #Se actualiza el saldo (balance) restando el costo de mantener el inventario durante el intervalo  de tiempo transcurrido\n",
        "    demand= generate_demand() #Esta función representa la cantidad de productos que se demandan en un determinado intervalo de tiempo.\n",
        "\n",
        "#Se evalúa si la demanda es menor que el inventario actual. Si es así, se procesa la venta.\n",
        "#Se actualiza el saldo sumando el ingreso generado por la venta (100 veces la demanda) y se reduce el inventario en la cantidad vendida.\n",
        "#Luego, se imprime un mensaje indicando el tiempo actual y la cantidad vendida.\n",
        "\n",
        "#Si la demanda es igual o mayor que el inventario, se procesa la venta de todo el inventario disponible.\n",
        "#El saldo se actualiza de la misma manera que en el punto anterior, pero el inventario se establece en cero.\n",
        "#Se imprime un mensaje indicando el tiempo actual y que el inventario se agotó.\n",
        "    if demand < inventory:\n",
        "      balance= 100*demand\n",
        "      inventory -= demand\n",
        "      print ('{:.2f} sold {}'.format(env.now, inventory))\n",
        "    else:\n",
        "      balance+= 100*inventory\n",
        "      inventory = 0\n",
        "      print ('{:.2f} sold {} (out of stock)'.format(env.now, inventory))\n",
        "#Se verifica si el inventario está por debajo del punto de reorden y si no hay pedidos en curso\n",
        "# Si ambas condiciones se cumplen, se inicia el proceso de manejo del pedido utilizando env.process(handle_order(env))\n",
        "#La función handle_order se encargará de realizar el pedido al proveedor y actualizar las variables correspondientes.\n",
        "\n",
        "    if inventory < order_cutoff and num_ordered == 0:\n",
        "       env.process(handle_order(env,order_target))"
      ]
    },
    {
      "cell_type": "code",
      "source": [
        "#La función handle_order,  se encarga de procesar un pedido de inventario al proveedor en la simulación del almacén.\n",
        "def handle_order(env, order_target):\n",
        "  global inventory, balance, num_ordered\n",
        "\n",
        "#num_ordered se calcula como la diferencia entre el objetivo de pedido (order_target) y el inventario actual.\n",
        "#Esto representa la cantidad de productos que se deben pedir para alcanzar el nivel objetivo de inventario.\n",
        "  num_ordered=order_target-inventory\n",
        "#Se imprime un mensaje indicando el tiempo actual (env.now) y la cantidad de productos que se han pedido (num_ordered)\n",
        "  print ('{:.2f} placed order for{}'.format(env.now,num_ordered))\n",
        "#El saldo (balance) se actualiza restando el costo de realizar el pedido.\n",
        "#En este caso, se asume un costo fijo de 50 unidades por cada producto pedido.\n",
        "  balance -=50*num_ordered\n",
        "#Se utiliza yield env.timeout(2.0) para simular el tiempo que lleva recibir el pedido del proveedor.\n",
        "#El tiempo de espera de 2.0 unidades representa el tiempo de entrega estimado.\n",
        "  yield env.timeout(2.0)\n",
        "#Una vez que ha pasado el tiempo de espera, se actualiza el inventario agregando la cantidad de productos pedidos (num_ordered).\n",
        "  inventory += num_ordered\n",
        "#La variable num_ordered se restablece a cero, ya que se ha completado el pedido.\n",
        "  num_ordered = 0\n",
        "#Se imprime un mensaje indicando el tiempo actual y la cantidad de productos en el inventario después de recibir el pedido\n",
        "  print ('{:.2f} received order, {} in inventory'.format(env.now, inventory))\n",
        "\n"
      ],
      "metadata": {
        "id": "A7atfjzeOcD_"
      },
      "execution_count": null,
      "outputs": []
    },
    {
      "cell_type": "code",
      "execution_count": null,
      "metadata": {
        "id": "99RgOeSsCtp-"
      },
      "outputs": [],
      "source": [
        "#La función generate_interarrival utiliza la función np.random.exponential de la biblioteca numpy.\n",
        "#Esta función genera números aleatorios a partir de una distribución exponencial.\n",
        "def generate_interarrival():\n",
        "  return np.random.exponential(1./5) #Se desea generar números aleatorios siguiendo una distribución exponencial con un parámetro de tasa 0.2.\n",
        "#La función np.random.exponential devuelve un número aleatorio que representa el tiempo entre eventos en la simulación."
      ]
    },
    {
      "cell_type": "code",
      "source": [
        "def generate_demand(): #generate_demand, genera una demanda de productos en la simulación del almacén.\n",
        "  return np.random.randint(1,5) #La función np.random.randint devuelve un número entero aleatorio que representa la demanda de productos en la simulación.\n",
        "  #El número generado estará en el rango especificado."
      ],
      "metadata": {
        "id": "VV5YexcFOMyW"
      },
      "execution_count": null,
      "outputs": []
    },
    {
      "cell_type": "code",
      "source": [
        "obs_time=[] #se utiliza para almacenar los tiempos de observación en la simulación del almacén. Esta lista\n",
        "#se puede utilizar para registrar los momentos en los que se desea observar y registrar el estado del inventario u otros parámetros del sistema.\n",
        "inventory_level=[] #se utiliza para almacenar los niveles de inventario en la simulación del almacén en los momentos de observación.\n",
        "#Cada vez que se realiza una observación del inventario, se puede agregar el nivel actual del inventario a esta lista."
      ],
      "metadata": {
        "id": "NbUioWSdjuvP"
      },
      "execution_count": null,
      "outputs": []
    },
    {
      "cell_type": "code",
      "source": [
        "def observe (env):\n",
        "  global inventory #cualquier modificación que se haga a inventory dentro de la función afectará a la variable global.\n",
        "  while True:\n",
        "    obs_time.append(env.now) #agrega el tiempo actual a la lista\n",
        "    inventory_level.append(inventory)\n",
        "    yield env.timeout(0.1) #hace que la función se pause durante 0.1 unidades de tiempo. Después de ese tiempo,\n",
        "    #la ejecución de la función se reanudar"
      ],
      "metadata": {
        "id": "8O6zq_qSj6Yr"
      },
      "execution_count": null,
      "outputs": []
    },
    {
      "cell_type": "code",
      "source": [
        "np.random.seed(0) #Se establece la semilla del generador de numeros"
      ],
      "metadata": {
        "id": "pCeScDuQljQY"
      },
      "execution_count": null,
      "outputs": []
    },
    {
      "cell_type": "code",
      "source": [
        "env=simpy.Environment()\n",
        "env.process(warehouse_run(env, 10, 30)) # inicia la simulación del almacén con un punto de reorden de 10 y un objetivo de pedido de 30.\n",
        "#El proceso se agrega al entorno de simulación para su ejecución.\n",
        "env.process(observe(env)) #Este proceso se encargará de realizar observaciones periódicas del inventario en la simulación.\n"
      ],
      "metadata": {
        "colab": {
          "base_uri": "https://localhost:8080/"
        },
        "id": "L7qPDbAfPH-t",
        "outputId": "010fff40-0e93-43eb-8cc2-8141c4fd12ab"
      },
      "execution_count": null,
      "outputs": [
        {
          "output_type": "execute_result",
          "data": {
            "text/plain": [
              "<Process(observe) object at 0x7fa24330ec80>"
            ]
          },
          "metadata": {},
          "execution_count": 71
        }
      ]
    },
    {
      "cell_type": "code",
      "source": [
        "env.run(until=5.0) #Ejecuta la simulación del entorno env hasta que el tiempo alcanza 5.0 unidades"
      ],
      "metadata": {
        "colab": {
          "base_uri": "https://localhost:8080/"
        },
        "id": "TK9iV0X2PcHx",
        "outputId": "79995a4e-df53-480d-eda2-b3b881fa8ac4"
      },
      "execution_count": null,
      "outputs": [
        {
          "output_type": "stream",
          "name": "stdout",
          "text": [
            "0.16 sold 28\n",
            "0.53 sold 24\n",
            "0.69 sold 22\n",
            "0.88 sold 19\n",
            "1.00 sold 16\n",
            "1.01 sold 15\n",
            "1.11 sold 12\n",
            "1.44 sold 9\n",
            "1.44 placed order for21\n",
            "1.61 sold 7\n",
            "1.97 sold 6\n",
            "1.99 sold 2\n",
            "2.08 sold 0 (out of stock)\n",
            "2.38 sold 0 (out of stock)\n",
            "2.79 sold 0 (out of stock)\n",
            "3.11 sold 0 (out of stock)\n",
            "3.26 sold 0 (out of stock)\n",
            "3.28 sold 0 (out of stock)\n",
            "3.44 received order, 21 in inventory\n",
            "3.46 sold 19\n",
            "4.04 sold 15\n",
            "4.06 sold 11\n",
            "4.12 sold 7\n",
            "4.12 placed order for23\n",
            "4.39 sold 6\n",
            "4.56 sold 5\n",
            "4.63 sold 3\n",
            "4.82 sold 2\n",
            "4.92 sold 1\n"
          ]
        }
      ]
    },
    {
      "cell_type": "code",
      "source": [
        "#Generamos la gráfica\n",
        "import matplotlib.pyplot as plt\n",
        "plt.figure()\n",
        "plt.step(obs_time, inventory_level, where='post')\n",
        "plt.xlabel('Simulation time(days)')\n",
        "plt.ylabel('Inventory label')"
      ],
      "metadata": {
        "colab": {
          "base_uri": "https://localhost:8080/",
          "height": 466
        },
        "id": "gM4xcVG_PcVc",
        "outputId": "b0605160-1210-4a83-d6e7-85e0662256e3"
      },
      "execution_count": null,
      "outputs": [
        {
          "output_type": "execute_result",
          "data": {
            "text/plain": [
              "Text(0, 0.5, 'Inventory label')"
            ]
          },
          "metadata": {},
          "execution_count": 75
        },
        {
          "output_type": "display_data",
          "data": {
            "text/plain": [
              "<Figure size 640x480 with 1 Axes>"
            ],
            "image/png": "[encoded data removed]"
          },
          "metadata": {}
        }
      ]
    }
  ],
  "metadata": {
    "colab": {
      "provenance": []
    },
    "kernelspec": {
      "display_name": "Python 3",
      "name": "python3"
    },
    "language_info": {
      "name": "python"
    }
  },
  "nbformat": 4,
  "nbformat_minor": 0
}